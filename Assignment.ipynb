{
 "cells": [
  {
   "cell_type": "markdown",
   "metadata": {},
   "source": [
    "<center>\n",
    "    <img src=\"https://cf-courses-data.s3.us.cloud-object-storage.appdomain.cloud/IBMDeveloperSkillsNetwork-DS0105EN-SkillsNetwork/labs/Module2/images/SN_web_lightmode.png\" width=\"300\" alt=\"cognitiveclass.ai logo\">\n",
    "</center>\n"
   ]
  },
  {
   "cell_type": "markdown",
   "metadata": {},
   "source": [
    "#### Add your code below following the instructions given in the course\n"
   ]
  },
  {
   "cell_type": "markdown",
   "metadata": {},
   "source": [
    "DATA SCIENCE TOOLS"
   ]
  },
  {
   "cell_type": "markdown",
   "metadata": {},
   "source": [
    "In this course I explored different tools used in Data Science Field such as the programming languages, visualization tools,\n",
    "version control systems etc"
   ]
  },
  {
   "cell_type": "markdown",
   "metadata": {},
   "source": [
    "### Data Science Libraries\n",
    "\n",
    "- **Python:**\n",
    "  - NumPy\n",
    "  - pandas\n",
    "  - scikit-learn\n",
    "  - TensorFlow\n",
    "  - Matplotlib\n",
    "  - seaborn\n",
    "\n",
    "- **R:**\n",
    "  - dplyr\n",
    "  - ggplot2\n",
    "  - caret\n",
    "  \n"
   ]
  },
  {
   "cell_type": "markdown",
   "metadata": {},
   "source": [
    "### Data Science Languages\n",
    "\n",
    "- Python  \n",
    "- R  \n",
    "- SQL  \n",
    "- Julia  \n",
    "- Scala\n"
   ]
  },
  {
   "cell_type": "markdown",
   "metadata": {},
   "source": [
    "### Data Science Tools\n",
    "\n",
    "| Tool           | Description                          | Language       |\n",
    "|----------------|--------------------------------------|----------------|\n",
    "| Jupyter Notebook | Interactive coding and visualization | Python, R      |\n",
    "| RStudio        | IDE for R programming                | R              |\n",
    "| Apache Spark   | Big data processing engine           | Scala, Python, R |\n",
    "| TensorFlow     | Deep learning framework              | Python         |\n",
    "| Tableau        | Data visualization platform          | GUI-based      |\n",
    "| Power BI       | Business intelligence and visualization | GUI-based   |\n",
    "| KNIME          | Drag-and-drop analytics platform     | GUI-based      |\n"
   ]
  },
  {
   "cell_type": "markdown",
   "metadata": {},
   "source": [
    "### Arithmetic Expression Examples\n",
    "\n",
    "Arithmetic expressions are used to perform basic mathematical operations. Here are some common examples:\n",
    "\n",
    "- **Addition:** `5 + 3 = 8`\n",
    "- **Subtraction:** `10 - 4 = 6`\n",
    "- **Multiplication:** `7 * 2 = 14`\n",
    "- **Division:** `20 / 5 = 4`\n",
    "- **Exponentiation:** `2 ^ 3 = 8` (in R) or `2 ** 3 = 8` (in Python)\n",
    "- **Modulus (Remainder):** `10 %% 3 = 1` (in R) or `10 % 3 = 1` (in Python)\n",
    "\n",
    "\n"
   ]
  },
  {
   "cell_type": "code",
   "execution_count": 1,
   "metadata": {},
   "outputs": [
    {
     "name": "stdout",
     "output_type": "stream",
     "text": [
      "17\n"
     ]
    }
   ],
   "source": [
    "# Multiply and add numbers in Python\n",
    "a = 5\n",
    "b = 3\n",
    "c = 2\n",
    "\n",
    "# Multiply a and b, then add c\n",
    "result = (a * b) + c\n",
    "print(result)\n"
   ]
  },
  {
   "cell_type": "code",
   "execution_count": 2,
   "metadata": {},
   "outputs": [
    {
     "name": "stdout",
     "output_type": "stream",
     "text": [
      "150 minutes is equal to 2.5 hours\n"
     ]
    }
   ],
   "source": [
    "# Convert minutes to hours in Python\n",
    "minutes = 150\n",
    "hours = minutes / 60\n",
    "print(f\"{minutes} minutes is equal to {hours} hours\")\n"
   ]
  },
  {
   "cell_type": "markdown",
   "metadata": {},
   "source": [
    "### Objectives\n",
    "\n",
    "- Understand basic arithmetic operations in programming.\n",
    "- Learn how to manipulate and convert units (e.g., minutes to hours).\n",
    "- Get familiar with using code cells to perform simple calculations.\n",
    "- Practice writing and executing code in R and Python.\n",
    "- Explore the use of Markdown to document and present code.\n",
    "\n"
   ]
  },
  {
   "cell_type": "markdown",
   "metadata": {},
   "source": [
    "### Author\n",
    "\n",
    "This work is authored by **Bhavya Ravilla**.\n"
   ]
  },
  {
   "cell_type": "code",
   "execution_count": null,
   "metadata": {},
   "outputs": [],
   "source": []
  }
 ],
 "metadata": {
  "kernelspec": {
   "display_name": "Python 3 (ipykernel)",
   "language": "python",
   "name": "python3"
  },
  "language_info": {
   "codemirror_mode": {
    "name": "ipython",
    "version": 3
   },
   "file_extension": ".py",
   "mimetype": "text/x-python",
   "name": "python",
   "nbconvert_exporter": "python",
   "pygments_lexer": "ipython3",
   "version": "3.12.8"
  }
 },
 "nbformat": 4,
 "nbformat_minor": 4
}
